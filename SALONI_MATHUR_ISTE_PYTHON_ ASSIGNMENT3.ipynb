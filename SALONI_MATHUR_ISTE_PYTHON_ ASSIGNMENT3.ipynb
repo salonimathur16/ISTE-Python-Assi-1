{
 "cells": [
  {
   "cell_type": "markdown",
   "metadata": {},
   "source": [
    "# Q1"
   ]
  },
  {
   "cell_type": "code",
   "execution_count": 38,
   "metadata": {},
   "outputs": [
    {
     "name": "stdout",
     "output_type": "stream",
     "text": [
      "{'c': 700, 'b': 500, 'd': 500, 'a': 100}\n"
     ]
    }
   ],
   "source": [
    "A = {'a':100, 'b':200, 'c':300}\n",
    "B = {'b':300, 'c':400, 'd':500}\n",
    "c = {x: A.get(x, 0) + B.get(x, 0) for x in set(A).union(B)}\n",
    "print(c)\n",
    "\n"
   ]
  },
  {
   "cell_type": "markdown",
   "metadata": {},
   "source": [
    "# Q2"
   ]
  },
  {
   "cell_type": "code",
   "execution_count": 52,
   "metadata": {},
   "outputs": [
    {
     "name": "stdout",
     "output_type": "stream",
     "text": [
      "{'T': 1, 'h': 2, 'i': 3, 's': 4, ' ': 5, 'm': 2, 'y': 2, 'a': 1, 'g': 1, 'n': 3, 'e': 1, 't': 2, 'f': 1, 'o': 2, 'r': 1, 'p': 1}"
     ]
    }
   ],
   "source": [
    "string=\"This is my assignment for python\"\n",
    "freq={}\n",
    "for i in string:\n",
    "    if i in freq:\n",
    "        freq[i]+=1\n",
    "    else:\n",
    "        freq[i]=1\n",
    "print(freq,end=\"\")"
   ]
  },
  {
   "cell_type": "markdown",
   "metadata": {},
   "source": [
    "# Q3"
   ]
  },
  {
   "cell_type": "code",
   "execution_count": 22,
   "metadata": {},
   "outputs": [
    {
     "data": {
      "text/plain": [
       "'An apple keeps the doctor a'"
      ]
     },
     "execution_count": 22,
     "metadata": {},
     "output_type": "execute_result"
    }
   ],
   "source": [
    "string1='An apple keeps the doctor away'\n",
    "string2= 'water'\n",
    "c=(string2[0])\n",
    "string1[0:string1.index(c)]"
   ]
  },
  {
   "cell_type": "markdown",
   "metadata": {},
   "source": [
    "# Q4"
   ]
  },
  {
   "cell_type": "code",
   "execution_count": 23,
   "metadata": {},
   "outputs": [
    {
     "data": {
      "text/plain": [
       "3"
      ]
     },
     "execution_count": 23,
     "metadata": {},
     "output_type": "execute_result"
    }
   ],
   "source": [
    "string3=\"we are a family. we are strong togther. we are inseperable\"\n",
    "string3.count('are')"
   ]
  }
 ],
 "metadata": {
  "kernelspec": {
   "display_name": "Python 3",
   "language": "python",
   "name": "python3"
  },
  "language_info": {
   "codemirror_mode": {
    "name": "ipython",
    "version": 3
   },
   "file_extension": ".py",
   "mimetype": "text/x-python",
   "name": "python",
   "nbconvert_exporter": "python",
   "pygments_lexer": "ipython3",
   "version": "3.6.7"
  }
 },
 "nbformat": 4,
 "nbformat_minor": 2
}
