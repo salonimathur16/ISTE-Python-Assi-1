{
  "nbformat": 4,
  "nbformat_minor": 0,
  "metadata": {
    "colab": {
      "name": "Untitled0.ipynb",
      "provenance": []
    },
    "kernelspec": {
      "name": "python3",
      "display_name": "Python 3"
    },
    "language_info": {
      "name": "python"
    }
  },
  "cells": [
    {
      "cell_type": "markdown",
      "metadata": {
        "id": "suaKHaHsP-O7"
      },
      "source": [
        "Assignment: Week-1"
      ]
    },
    {
      "cell_type": "markdown",
      "metadata": {
        "id": "_bOSJxLNP3XC"
      },
      "source": [
        "Q1"
      ]
    },
    {
      "cell_type": "code",
      "metadata": {
        "colab": {
          "base_uri": "https://localhost:8080/"
        },
        "id": "c6znfmznQFBI",
        "outputId": "19b380cd-0413-4ad9-bf00-12f80468130b"
      },
      "source": [
        "a=7.3\n",
        "b=5+4j\n",
        "print(a+b)"
      ],
      "execution_count": 2,
      "outputs": [
        {
          "output_type": "stream",
          "text": [
            "(12.3+4j)\n"
          ],
          "name": "stdout"
        }
      ]
    },
    {
      "cell_type": "code",
      "metadata": {
        "colab": {
          "base_uri": "https://localhost:8080/"
        },
        "id": "iMpiOdtfQRjs",
        "outputId": "9372be76-919e-43be-cb0f-1cb5ef8454a8"
      },
      "source": [
        "a=4e4\n",
        "b=4E4\n",
        "a==b"
      ],
      "execution_count": 3,
      "outputs": [
        {
          "output_type": "execute_result",
          "data": {
            "text/plain": [
              "True"
            ]
          },
          "metadata": {
            "tags": []
          },
          "execution_count": 3
        }
      ]
    },
    {
      "cell_type": "code",
      "metadata": {
        "colab": {
          "base_uri": "https://localhost:8080/"
        },
        "id": "6V9hoRXaQZA6",
        "outputId": "c7e321e1-507d-40d8-b415-99fe6fbe6851"
      },
      "source": [
        "import cmath\n",
        "c=3+5j\n",
        "r=c.real\n",
        "i=c.imag\n",
        "print(r,i)"
      ],
      "execution_count": 9,
      "outputs": [
        {
          "output_type": "stream",
          "text": [
            "3.0 5.0\n"
          ],
          "name": "stdout"
        }
      ]
    },
    {
      "cell_type": "code",
      "metadata": {
        "colab": {
          "base_uri": "https://localhost:8080/"
        },
        "id": "XwEXaMknQn5d",
        "outputId": "c5e64c26-2b9a-45fc-95ce-b74b4173cb06"
      },
      "source": [
        "import numpy as np\n",
        "import math\n",
        "a=np.exp(1)\n",
        "b=math.trunc(a)\n",
        "b\n",
        "\n"
      ],
      "execution_count": 16,
      "outputs": [
        {
          "output_type": "execute_result",
          "data": {
            "text/plain": [
              "2"
            ]
          },
          "metadata": {
            "tags": []
          },
          "execution_count": 16
        }
      ]
    },
    {
      "cell_type": "markdown",
      "metadata": {
        "id": "9pIrMYScTsJ3"
      },
      "source": [
        "Q2"
      ]
    },
    {
      "cell_type": "code",
      "metadata": {
        "id": "xrdGcX1DTuIs"
      },
      "source": [
        "def dictionary_function(d):\n",
        "  for x in d:\n",
        "    print(\"key:\", x, \"value:\" ,d[x])"
      ],
      "execution_count": 19,
      "outputs": []
    },
    {
      "cell_type": "code",
      "metadata": {
        "colab": {
          "base_uri": "https://localhost:8080/"
        },
        "id": "xWnr42JoTvGa",
        "outputId": "c6222025-98e7-48f6-8e2a-ad86c2cb0699"
      },
      "source": [
        "d={'a':1,'b':2,'c':3,'d':4}\n",
        "dictionary_function(d)\n"
      ],
      "execution_count": 20,
      "outputs": [
        {
          "output_type": "stream",
          "text": [
            "key: a value: 1\n",
            "key: b value: 2\n",
            "key: c value: 3\n",
            "key: d value: 4\n"
          ],
          "name": "stdout"
        }
      ]
    },
    {
      "cell_type": "code",
      "metadata": {
        "id": "aO7-ND6tdfuP"
      },
      "source": [
        ""
      ],
      "execution_count": null,
      "outputs": []
    },
    {
      "cell_type": "markdown",
      "metadata": {
        "id": "Z9KlPikldlBQ"
      },
      "source": [
        "Q3"
      ]
    },
    {
      "cell_type": "code",
      "metadata": {
        "colab": {
          "base_uri": "https://localhost:8080/"
        },
        "id": "Lv3LRmovesGY",
        "outputId": "0ea7132a-971f-4337-9dff-f19c2ffab1b0"
      },
      "source": [
        "val=input(\"enter a number\")\n",
        "a=int(val)\n",
        "factorial=1\n",
        "if a==0:\n",
        "  print('The factorial of 0 is 1 ')\n",
        "elif a < 0:\n",
        "  print(\"No factorial exists for given number\")\n",
        "elif a>0:\n",
        "  for x in range(1,a+1):\n",
        "    factorial=factorial*x\n",
        "  print(\"factorial of the given number is {}\".format(factorial))"
      ],
      "execution_count": 24,
      "outputs": [
        {
          "output_type": "stream",
          "text": [
            "enter a number12\n",
            "factorial of the given number is 479001600\n"
          ],
          "name": "stdout"
        }
      ]
    },
    {
      "cell_type": "markdown",
      "metadata": {
        "id": "MLfxKMv_JxMk"
      },
      "source": [
        "Q4"
      ]
    },
    {
      "cell_type": "code",
      "metadata": {
        "colab": {
          "base_uri": "https://localhost:8080/"
        },
        "id": "09XIrRceJ0W2",
        "outputId": "0b322bc9-5c6c-462a-a785-4574636893f1"
      },
      "source": [
        "x=input(\"Enter a number\")\n",
        "a=int(x)\n",
        "def Fibonacci(a):\n",
        "  if a<0:\n",
        "    return(\"Incorrect input\")\n",
        "  elif a==0:\n",
        "    return 0\n",
        "  elif a==1 or a==2:\n",
        "    return 1\n",
        "  elif a >0:\n",
        "    return Fibonacci(a-1) + Fibonacci(a-2)\n",
        "Fibonacci(a)"
      ],
      "execution_count": 32,
      "outputs": [
        {
          "output_type": "stream",
          "text": [
            "Enter a number23\n"
          ],
          "name": "stdout"
        },
        {
          "output_type": "execute_result",
          "data": {
            "text/plain": [
              "28657"
            ]
          },
          "metadata": {
            "tags": []
          },
          "execution_count": 32
        }
      ]
    },
    {
      "cell_type": "markdown",
      "metadata": {
        "id": "esXn2C8HM3Bn"
      },
      "source": [
        "Q5"
      ]
    },
    {
      "cell_type": "code",
      "metadata": {
        "colab": {
          "base_uri": "https://localhost:8080/"
        },
        "id": "o8bxzO19M4sL",
        "outputId": "b7e546f3-6c41-47dc-ab7b-399cc7c6ea58"
      },
      "source": [
        "import numpy as np\n",
        "a=np.array([1,2,3,4,-5,-75,-3])\n",
        "b=0\n",
        "c=0\n",
        "for x in a:\n",
        "  if x>0:\n",
        "    b=b+x\n",
        "\n",
        "    \n",
        "  elif x<0:\n",
        "    c=c+x\n",
        "print(b)\n",
        "print(c)\n",
        "if b> abs(c):\n",
        "  print(\"Positive\")\n",
        "else:\n",
        "  print(\"Negative\")\n",
        "\n"
      ],
      "execution_count": 38,
      "outputs": [
        {
          "output_type": "stream",
          "text": [
            "10\n",
            "-83\n",
            "Negative\n"
          ],
          "name": "stdout"
        }
      ]
    },
    {
      "cell_type": "markdown",
      "metadata": {
        "id": "lxo02xVgRwA9"
      },
      "source": [
        "Q6"
      ]
    },
    {
      "cell_type": "code",
      "metadata": {
        "colab": {
          "base_uri": "https://localhost:8080/"
        },
        "id": "Ut8V5V3mRxt8",
        "outputId": "f641f1c2-0f17-420e-b600-2c5894ca79ac"
      },
      "source": [
        "a='nucdeuvbdmoclma/a'\n",
        "l1=[]\n",
        "l2=[]\n",
        "for x in a:\n",
        "  if x=='a' or x=='e' or x=='i' or x=='o' or x=='u':\n",
        "    l1.append(x)\n",
        "  else:\n",
        "    l2.append(x)\n",
        "vowels=''\n",
        "consonants=''\n",
        "for b in l1:\n",
        "  vowels+=b\n",
        "for c in l2:\n",
        "  consonants+=c\n",
        "print(vowels+consonants)"
      ],
      "execution_count": 46,
      "outputs": [
        {
          "output_type": "stream",
          "text": [
            "ueuoaancdvbdmclm\n"
          ],
          "name": "stdout"
        }
      ]
    },
    {
      "cell_type": "markdown",
      "metadata": {
        "id": "DupjHXYnXaLj"
      },
      "source": [
        "Q7"
      ]
    },
    {
      "cell_type": "code",
      "metadata": {
        "id": "uqZpql2DVTyd"
      },
      "source": [
        "# finding first 10 multiples of 20\n",
        "def multiple(m,n):\n",
        "  a=range(n,(m*n)+1,n)\n",
        "  print(*a)\n"
      ],
      "execution_count": 54,
      "outputs": []
    },
    {
      "cell_type": "code",
      "metadata": {
        "colab": {
          "base_uri": "https://localhost:8080/"
        },
        "id": "jhMJsxbgaRS5",
        "outputId": "a1a73b5c-34d4-442e-e7a6-4e7427ad781b"
      },
      "source": [
        "multiple(10,20)"
      ],
      "execution_count": 55,
      "outputs": [
        {
          "output_type": "stream",
          "text": [
            "20 40 60 80 100 120 140 160 180 200\n"
          ],
          "name": "stdout"
        }
      ]
    },
    {
      "cell_type": "code",
      "metadata": {
        "id": "bFF4vcg2bxpW"
      },
      "source": [
        ""
      ],
      "execution_count": null,
      "outputs": []
    }
  ]
}