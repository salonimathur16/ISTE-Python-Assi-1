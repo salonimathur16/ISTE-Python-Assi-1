{
 "cells": [
  {
   "cell_type": "markdown",
   "metadata": {},
   "source": [
    "# Q1"
   ]
  },
  {
   "cell_type": "code",
   "execution_count": 1,
   "metadata": {},
   "outputs": [
    {
     "name": "stdout",
     "output_type": "stream",
     "text": [
      "The Name of the car is bugati,Model number is Bugati veyron365, Manufactured in 1999 Color is Red and with Horsepower of 36000\n",
      "name of car is ferrari\n",
      "New color of car is black\n"
     ]
    }
   ],
   "source": [
    "class Car:\n",
    "    def __init__(self,Model,Name,Year,Color,Horsepower):\n",
    "        self.Name=Name\n",
    "        self.Model=Model\n",
    "        self.Year=Year\n",
    "        self.Color=Color\n",
    "        self.Horsepower=Horsepower\n",
    "    def fullname(self):\n",
    "        print(f\"The Name of the car is {self.Name},Model number is {self.Model}, Manufactured in {self.Year} Color is {self.Color} and with Horsepower of {self.Horsepower}\")\n",
    "    def replace_name(self,n):\n",
    "        self.Name=n\n",
    "        print(f\"name of car is {self.Name}\")\n",
    "    def replace_color(self,i):\n",
    "        self.Color=i\n",
    "        print(f\"New color of car is {self.Color}\")\n",
    "c1=Car(\"Bugati veyron365\",\"bugati\",1999,\"Red\",36000) #ATTRIBUTES\n",
    "c1.fullname()#ATTRIBUTES\n",
    "c1.replace_name(\"ferrari\") #CHANGE NAME\n",
    "c1.replace_color(\"black\") #CHANGE COLOR"
   ]
  },
  {
   "cell_type": "markdown",
   "metadata": {},
   "source": [
    "# Q2"
   ]
  },
  {
   "cell_type": "code",
   "execution_count": 23,
   "metadata": {},
   "outputs": [
    {
     "name": "stdout",
     "output_type": "stream",
     "text": [
      "{' fu', 'Cod', 'n', 'ing', ' is'}\n"
     ]
    }
   ],
   "source": [
    "str1=\"Coding is fun\"\n",
    "n=3\n",
    "out = {(str1[i:i+n]) for i in range(0, len(str1), n)}\n",
    "print(out)\n",
    "out_set=set(out)\n"
   ]
  },
  {
   "cell_type": "code",
   "execution_count": 24,
   "metadata": {},
   "outputs": [
    {
     "name": "stdout",
     "output_type": "stream",
     "text": [
      " funCoding is\n"
     ]
    }
   ],
   "source": [
    "separator=''\n",
    "print(separator.join(out_set))"
   ]
  },
  {
   "cell_type": "markdown",
   "metadata": {},
   "source": [
    "# Q3"
   ]
  },
  {
   "cell_type": "code",
   "execution_count": 5,
   "metadata": {},
   "outputs": [
    {
     "name": "stdout",
     "output_type": "stream",
     "text": [
      "Name of student is Ajay. His RollNo is 145. His phone number is 1234567890.He is in 6th Grade. He Likes to play Basketball\n",
      "The sport played by Ajay is Basketball\n",
      "Number was changed from 1234567890 to 1023456789\n",
      "Game was changed from Basketball to Cricket\n",
      "Ramesh named student was removed as he doesnt play any game anymore.\n"
     ]
    }
   ],
   "source": [
    "class students:\n",
    "    def __init__(self,RollNo,Phoneno,Grade,Name):\n",
    "        self.RollNo=RollNo\n",
    "        self.Grade=Grade\n",
    "        self.Name=Name\n",
    "        self.Phoneno=Phoneno\n",
    "    def full(self):\n",
    "        print(f\"Name of student is {self.Name}. His RollNo is {self.RollNo}. His phone number is {self.Phoneno}.He is in {self.Grade}th Grade. He Likes to play {self.Sport}\")\n",
    "    def sport_played(self):\n",
    "        print(f\"The sport played by {self.Name} is {self.Sport}\")\n",
    "    def number_change(self,n):\n",
    "        print(f\"Number was changed from {self.Phoneno} to {n}\")\n",
    "    def sport_change(self,i):\n",
    "        print(f\"Game was changed from {self.Sport} to {i}\")\n",
    "    def _last(self,n):\n",
    "        print(f\"{self.Name} named student was removed as he doesnt play any game anymore.\")\n",
    "        del self.Name\n",
    "class sports(students):\n",
    "    def __init__(self,RollNo,Phoneno,Grades,Name,Sport):\n",
    "        students.__init__(self,RollNo,Phoneno,Grades,Name)\n",
    "        self.Sport=Sport\n",
    "    \n",
    "s1=sports(145,1234567890,6,\"Ajay\",\"Basketball\")\n",
    "sports.full(s1)\n",
    "s1.sport_played()\n",
    "s1.number_change(1023456789) #CHANGE NUMBER\n",
    "s1.sport_change(\"Cricket\") #CHANGE SPORT\n",
    "s2=sports(125,123456450,7,\"Ramesh\",\"Cricket\")\n",
    "s2._last(\"Ramesh\") # STUDENT REMOVAL"
   ]
  },
  {
   "cell_type": "code",
   "execution_count": null,
   "metadata": {
    "collapsed": true
   },
   "outputs": [],
   "source": []
  }
 ],
 "metadata": {
  "kernelspec": {
   "display_name": "Python 3",
   "language": "python",
   "name": "python3"
  },
  "language_info": {
   "codemirror_mode": {
    "name": "ipython",
    "version": 3
   },
   "file_extension": ".py",
   "mimetype": "text/x-python",
   "name": "python",
   "nbconvert_exporter": "python",
   "pygments_lexer": "ipython3",
   "version": "3.6.7"
  }
 },
 "nbformat": 4,
 "nbformat_minor": 2
}
